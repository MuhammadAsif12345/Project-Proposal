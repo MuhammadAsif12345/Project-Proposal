{
  "nbformat": 4,
  "nbformat_minor": 0,
  "metadata": {
    "colab": {
      "name": "Untitled8.ipynb",
      "provenance": []
    },
    "kernelspec": {
      "name": "python3",
      "display_name": "Python 3"
    },
    "language_info": {
      "name": "python"
    }
  },
  "cells": [
    {
      "cell_type": "markdown",
      "source": [
        "#Final Project Proposal\n",
        "\n",
        "##Introduction\n",
        "Weather prediction is a very tool we have in today's society. Before mid 19th century, people used to predict weather through various different tools and ways but it is most accurate in todays day and age. North Amereica has a diverse range of weather. Especially in New York, we see a range of swere thunderstorm to hot sunny days. Weather forcasting includes a lot of different things. For example, winds, humidity, temperature etc. \n",
        "\n",
        "In this research we will analyze the amount of smow that has fallen in New York city over the past decade. How many inches of snow was accumulated throughout the years based on every month and how has it shifted over the years and factors cause that. The change between the inches of snow comparing the last whole decade.\n",
        "\n",
        "This information can be very vital for various different reasons. We all know how serious the issue of global warming is getting. Our sea level is rising constantly and the amount of snow we getting each year can play a vital role in that. It can determine when we should move out from certain neighbourhoods like in venice and etc.\n",
        "\n",
        "##Research Question\n",
        "\n",
        "In this paper we will reasearch that how much snow has fallen in NYC and how that has shifted over the years?\n",
        "We will also discuss the factors that caused those changes and what impact they can have in the real world?\n",
        "\n",
        "##Data\n",
        "The data that will be used for this project will be from vitable resources. Below are the links of two different data's that provide the results for over the years in New York City.\n",
        "We will download the data using CSV files.\n",
        "\n",
        "http://www.cnyweather.com/wxsnowsummary.php\n",
        "\n",
        "https://www.weather.gov/media/okx/Climate/CentralPark/monthlyseasonalsnowfall.pdf\n",
        "\n",
        "We will download the data, import it in the access or excel file for ease of use and then analyze the data in the colab using different tools from python.\n",
        "\n",
        "##Approach\n",
        "\n",
        "We will generate any graphics that can help in understanding the data easily. We will download data from the resources and use access or excel to display the data and charts if any needed. We will do a exploratory data analysis and also test the variables. We will also show any charts or maps that help understant this easily."
      ],
      "metadata": {
        "id": "6TPV6pOFXkkk"
      }
    }
  ]
}